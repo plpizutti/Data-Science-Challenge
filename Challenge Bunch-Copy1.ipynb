{
 "cells": [
  {
   "cell_type": "code",
   "execution_count": 1,
   "metadata": {
    "collapsed": true
   },
   "outputs": [],
   "source": [
    "import pandas as pd\n",
    "import numpy as np\n",
    "import matplotlib.pyplot as plt"
   ]
  },
  {
   "cell_type": "code",
   "execution_count": 2,
   "metadata": {
    "collapsed": true
   },
   "outputs": [],
   "source": [
    "rater1 = pd.read_csv('C:\\Projetos\\Bunch Challenge\\morale_rater1.csv')"
   ]
  },
  {
   "cell_type": "code",
   "execution_count": 3,
   "metadata": {
    "collapsed": true
   },
   "outputs": [],
   "source": [
    "rater2 = pd.read_csv('C:\\Projetos\\Bunch Challenge\\morale_rater2.csv')"
   ]
  },
  {
   "cell_type": "code",
   "execution_count": 4,
   "metadata": {},
   "outputs": [
    {
     "data": {
      "text/plain": [
       "Index(['Unnamed: 0', 'message_timestamp', 'text', 'high_morale', 'low_morale'], dtype='object')"
      ]
     },
     "execution_count": 4,
     "metadata": {},
     "output_type": "execute_result"
    }
   ],
   "source": [
    "rater1.columns"
   ]
  },
  {
   "cell_type": "code",
   "execution_count": 5,
   "metadata": {},
   "outputs": [
    {
     "data": {
      "text/plain": [
       "Index(['Id', 'message_timestamp_r1', 'text_r1', 'high_morale_r1',\n",
       "       'low_morale_r1'],\n",
       "      dtype='object')"
      ]
     },
     "execution_count": 5,
     "metadata": {},
     "output_type": "execute_result"
    }
   ],
   "source": [
    "rater1.rename(columns={'Unnamed: 0': 'Id', 'message_timestamp': 'message_timestamp_r1',\n",
    "                       'text': 'text_r1', 'high_morale': 'high_morale_r1', \n",
    "                       'low_morale': 'low_morale_r1'}, inplace=True)\n",
    "rater1.columns"
   ]
  },
  {
   "cell_type": "code",
   "execution_count": 6,
   "metadata": {},
   "outputs": [
    {
     "data": {
      "text/plain": [
       "Index(['Id', 'message_timestamp_r2', 'text_r2', 'high_morale_r2',\n",
       "       'low_morale_r2'],\n",
       "      dtype='object')"
      ]
     },
     "execution_count": 6,
     "metadata": {},
     "output_type": "execute_result"
    }
   ],
   "source": [
    "rater2.rename(columns={'Unnamed: 0': 'Id', 'message_timestamp': 'message_timestamp_r2',\n",
    "                       'text': 'text_r2', 'high_morale': 'high_morale_r2', \n",
    "                       'low_morale': 'low_morale_r2'}, inplace=True)\n",
    "rater2.columns"
   ]
  },
  {
   "cell_type": "code",
   "execution_count": 7,
   "metadata": {},
   "outputs": [
    {
     "name": "stdout",
     "output_type": "stream",
     "text": [
      "300\n"
     ]
    },
    {
     "data": {
      "text/html": [
       "<div>\n",
       "<style>\n",
       "    .dataframe thead tr:only-child th {\n",
       "        text-align: right;\n",
       "    }\n",
       "\n",
       "    .dataframe thead th {\n",
       "        text-align: left;\n",
       "    }\n",
       "\n",
       "    .dataframe tbody tr th {\n",
       "        vertical-align: top;\n",
       "    }\n",
       "</style>\n",
       "<table border=\"1\" class=\"dataframe\">\n",
       "  <thead>\n",
       "    <tr style=\"text-align: right;\">\n",
       "      <th></th>\n",
       "      <th>Id</th>\n",
       "      <th>message_timestamp_r1</th>\n",
       "      <th>text_r1</th>\n",
       "      <th>high_morale_r1</th>\n",
       "      <th>low_morale_r1</th>\n",
       "      <th>message_timestamp_r2</th>\n",
       "      <th>text_r2</th>\n",
       "      <th>high_morale_r2</th>\n",
       "      <th>low_morale_r2</th>\n",
       "    </tr>\n",
       "  </thead>\n",
       "  <tbody>\n",
       "    <tr>\n",
       "      <th>0</th>\n",
       "      <td>0</td>\n",
       "      <td>2016-11-15 11:05:17</td>\n",
       "      <td>nothing is running on the box</td>\n",
       "      <td>0</td>\n",
       "      <td>0</td>\n",
       "      <td>2016-11-15 11:05:17</td>\n",
       "      <td>nothing is running on the box</td>\n",
       "      <td>0</td>\n",
       "      <td>0</td>\n",
       "    </tr>\n",
       "    <tr>\n",
       "      <th>1</th>\n",
       "      <td>1</td>\n",
       "      <td>2016-07-16 09:22:11</td>\n",
       "      <td>no its not :slightly_smiling_face: thanks agai...</td>\n",
       "      <td>1</td>\n",
       "      <td>0</td>\n",
       "      <td>2016-07-16 09:22:11</td>\n",
       "      <td>no its not :slightly_smiling_face: thanks agai...</td>\n",
       "      <td>1</td>\n",
       "      <td>0</td>\n",
       "    </tr>\n",
       "    <tr>\n",
       "      <th>2</th>\n",
       "      <td>2</td>\n",
       "      <td>2018-03-06 10:07:14</td>\n",
       "      <td>Kyle Lindeque [12:06 PM]\\nTry looking towards ...</td>\n",
       "      <td>0</td>\n",
       "      <td>0</td>\n",
       "      <td>2018-03-06 10:07:14</td>\n",
       "      <td>Kyle Lindeque [12:06 PM]\\nTry looking towards ...</td>\n",
       "      <td>0</td>\n",
       "      <td>0</td>\n",
       "    </tr>\n",
       "  </tbody>\n",
       "</table>\n",
       "</div>"
      ],
      "text/plain": [
       "   Id message_timestamp_r1                                            text_r1  \\\n",
       "0   0  2016-11-15 11:05:17                      nothing is running on the box   \n",
       "1   1  2016-07-16 09:22:11  no its not :slightly_smiling_face: thanks agai...   \n",
       "2   2  2018-03-06 10:07:14  Kyle Lindeque [12:06 PM]\\nTry looking towards ...   \n",
       "\n",
       "   high_morale_r1  low_morale_r1 message_timestamp_r2  \\\n",
       "0               0              0  2016-11-15 11:05:17   \n",
       "1               1              0  2016-07-16 09:22:11   \n",
       "2               0              0  2018-03-06 10:07:14   \n",
       "\n",
       "                                             text_r2  high_morale_r2  \\\n",
       "0                      nothing is running on the box               0   \n",
       "1  no its not :slightly_smiling_face: thanks agai...               1   \n",
       "2  Kyle Lindeque [12:06 PM]\\nTry looking towards ...               0   \n",
       "\n",
       "   low_morale_r2  \n",
       "0              0  \n",
       "1              0  \n",
       "2              0  "
      ]
     },
     "execution_count": 7,
     "metadata": {},
     "output_type": "execute_result"
    }
   ],
   "source": [
    "#Merge 2 dataframes \n",
    "df_merged = rater1.merge(rater2, on = ['Id'], how = 'inner')\n",
    "print(len(df_merged))\n",
    "df_merged[:3]"
   ]
  },
  {
   "cell_type": "code",
   "execution_count": 8,
   "metadata": {},
   "outputs": [
    {
     "data": {
      "text/html": [
       "<div>\n",
       "<style>\n",
       "    .dataframe thead tr:only-child th {\n",
       "        text-align: right;\n",
       "    }\n",
       "\n",
       "    .dataframe thead th {\n",
       "        text-align: left;\n",
       "    }\n",
       "\n",
       "    .dataframe tbody tr th {\n",
       "        vertical-align: top;\n",
       "    }\n",
       "</style>\n",
       "<table border=\"1\" class=\"dataframe\">\n",
       "  <thead>\n",
       "    <tr style=\"text-align: right;\">\n",
       "      <th></th>\n",
       "      <th>Id</th>\n",
       "      <th>message_timestamp_r1</th>\n",
       "      <th>text_r1</th>\n",
       "      <th>high_morale_r1</th>\n",
       "      <th>low_morale_r1</th>\n",
       "      <th>message_timestamp_r2</th>\n",
       "      <th>text_r2</th>\n",
       "      <th>high_morale_r2</th>\n",
       "      <th>low_morale_r2</th>\n",
       "      <th>high_morale_sum</th>\n",
       "      <th>low_morale_sum</th>\n",
       "    </tr>\n",
       "  </thead>\n",
       "  <tbody>\n",
       "    <tr>\n",
       "      <th>0</th>\n",
       "      <td>0</td>\n",
       "      <td>2016-11-15 11:05:17</td>\n",
       "      <td>nothing is running on the box</td>\n",
       "      <td>0</td>\n",
       "      <td>0</td>\n",
       "      <td>2016-11-15 11:05:17</td>\n",
       "      <td>nothing is running on the box</td>\n",
       "      <td>0</td>\n",
       "      <td>0</td>\n",
       "      <td>0</td>\n",
       "      <td>0</td>\n",
       "    </tr>\n",
       "    <tr>\n",
       "      <th>1</th>\n",
       "      <td>1</td>\n",
       "      <td>2016-07-16 09:22:11</td>\n",
       "      <td>no its not :slightly_smiling_face: thanks agai...</td>\n",
       "      <td>1</td>\n",
       "      <td>0</td>\n",
       "      <td>2016-07-16 09:22:11</td>\n",
       "      <td>no its not :slightly_smiling_face: thanks agai...</td>\n",
       "      <td>1</td>\n",
       "      <td>0</td>\n",
       "      <td>2</td>\n",
       "      <td>0</td>\n",
       "    </tr>\n",
       "    <tr>\n",
       "      <th>2</th>\n",
       "      <td>2</td>\n",
       "      <td>2018-03-06 10:07:14</td>\n",
       "      <td>Kyle Lindeque [12:06 PM]\\nTry looking towards ...</td>\n",
       "      <td>0</td>\n",
       "      <td>0</td>\n",
       "      <td>2018-03-06 10:07:14</td>\n",
       "      <td>Kyle Lindeque [12:06 PM]\\nTry looking towards ...</td>\n",
       "      <td>0</td>\n",
       "      <td>0</td>\n",
       "      <td>0</td>\n",
       "      <td>0</td>\n",
       "    </tr>\n",
       "  </tbody>\n",
       "</table>\n",
       "</div>"
      ],
      "text/plain": [
       "   Id message_timestamp_r1                                            text_r1  \\\n",
       "0   0  2016-11-15 11:05:17                      nothing is running on the box   \n",
       "1   1  2016-07-16 09:22:11  no its not :slightly_smiling_face: thanks agai...   \n",
       "2   2  2018-03-06 10:07:14  Kyle Lindeque [12:06 PM]\\nTry looking towards ...   \n",
       "\n",
       "   high_morale_r1  low_morale_r1 message_timestamp_r2  \\\n",
       "0               0              0  2016-11-15 11:05:17   \n",
       "1               1              0  2016-07-16 09:22:11   \n",
       "2               0              0  2018-03-06 10:07:14   \n",
       "\n",
       "                                             text_r2  high_morale_r2  \\\n",
       "0                      nothing is running on the box               0   \n",
       "1  no its not :slightly_smiling_face: thanks agai...               1   \n",
       "2  Kyle Lindeque [12:06 PM]\\nTry looking towards ...               0   \n",
       "\n",
       "   low_morale_r2  high_morale_sum  low_morale_sum  \n",
       "0              0                0               0  \n",
       "1              0                2               0  \n",
       "2              0                0               0  "
      ]
     },
     "execution_count": 8,
     "metadata": {},
     "output_type": "execute_result"
    }
   ],
   "source": [
    "# Insert columns high_morale_sum and low_morale_sum\n",
    "df_merged['high_morale_sum'] = np.where((rater1['high_morale_r1'] == 1) \n",
    "                                        & (rater2['high_morale_r2'] == 1), 2, 0)\n",
    "df_merged['low_morale_sum'] = np.where((rater1['low_morale_r1'] == 1) \n",
    "                                       & (rater2['low_morale_r2'] == 1), 2, 0)\n",
    "df_merged.head(3)"
   ]
  },
  {
   "cell_type": "code",
   "execution_count": 9,
   "metadata": {},
   "outputs": [
    {
     "data": {
      "text/plain": [
       "2    20\n",
       "Name: high_morale_sum, dtype: int64"
      ]
     },
     "execution_count": 9,
     "metadata": {},
     "output_type": "execute_result"
    }
   ],
   "source": [
    "# How many times do the raters agree on high_morale?\n",
    "count_high = df_merged.high_morale_sum[df_merged.high_morale_sum==2].value_counts()\n",
    "count_high"
   ]
  },
  {
   "cell_type": "code",
   "execution_count": 10,
   "metadata": {},
   "outputs": [
    {
     "data": {
      "text/plain": [
       "31"
      ]
     },
     "execution_count": 10,
     "metadata": {},
     "output_type": "execute_result"
    }
   ],
   "source": [
    "# how many times does Rater1 labeled high morale?\n",
    "high_morale_rater1 = rater1[(rater1[\"high_morale_r1\"] == 1)]\n",
    "len(high_morale_rater1)"
   ]
  },
  {
   "cell_type": "code",
   "execution_count": 11,
   "metadata": {},
   "outputs": [
    {
     "data": {
      "text/plain": [
       "38"
      ]
     },
     "execution_count": 11,
     "metadata": {},
     "output_type": "execute_result"
    }
   ],
   "source": [
    "# how many times does Rater2 labeled high morale?\n",
    "high_morale_rater2 = rater2[(rater2[\"high_morale_r2\"] == 1)]\n",
    "len(high_morale_rater2)"
   ]
  },
  {
   "cell_type": "code",
   "execution_count": 12,
   "metadata": {},
   "outputs": [
    {
     "data": {
      "text/plain": [
       "2    3\n",
       "Name: low_morale_sum, dtype: int64"
      ]
     },
     "execution_count": 12,
     "metadata": {},
     "output_type": "execute_result"
    }
   ],
   "source": [
    "# How many times do the raters agree on low_morale?\n",
    "count_low = df_merged.low_morale_sum[df_merged.low_morale_sum==2].value_counts()\n",
    "count_low"
   ]
  },
  {
   "cell_type": "code",
   "execution_count": 13,
   "metadata": {},
   "outputs": [
    {
     "data": {
      "text/plain": [
       "4"
      ]
     },
     "execution_count": 13,
     "metadata": {},
     "output_type": "execute_result"
    }
   ],
   "source": [
    "# how many times does Rater1 labeled low morale?\n",
    "low_morale_rater1 = rater1[(rater1[\"low_morale_r1\"] == 1)]\n",
    "len(low_morale_rater1)"
   ]
  },
  {
   "cell_type": "code",
   "execution_count": 14,
   "metadata": {},
   "outputs": [
    {
     "data": {
      "text/plain": [
       "18"
      ]
     },
     "execution_count": 14,
     "metadata": {},
     "output_type": "execute_result"
    }
   ],
   "source": [
    "# how many times does Rater2 labeled low morale?\n",
    "low_morale_rater2 = rater2[(rater2[\"low_morale_r2\"] == 1)]\n",
    "len(low_morale_rater2)"
   ]
  },
  {
   "cell_type": "code",
   "execution_count": 15,
   "metadata": {},
   "outputs": [
    {
     "data": {
      "text/html": [
       "<div>\n",
       "<style>\n",
       "    .dataframe thead tr:only-child th {\n",
       "        text-align: right;\n",
       "    }\n",
       "\n",
       "    .dataframe thead th {\n",
       "        text-align: left;\n",
       "    }\n",
       "\n",
       "    .dataframe tbody tr th {\n",
       "        vertical-align: top;\n",
       "    }\n",
       "</style>\n",
       "<table border=\"1\" class=\"dataframe\">\n",
       "  <thead>\n",
       "    <tr style=\"text-align: right;\">\n",
       "      <th></th>\n",
       "      <th>Id</th>\n",
       "      <th>message_timestamp_r1</th>\n",
       "      <th>text_r1</th>\n",
       "      <th>high_morale_r1</th>\n",
       "      <th>low_morale_r1</th>\n",
       "      <th>message_timestamp_r2</th>\n",
       "      <th>text_r2</th>\n",
       "      <th>high_morale_r2</th>\n",
       "      <th>low_morale_r2</th>\n",
       "      <th>high_morale_sum</th>\n",
       "      <th>low_morale_sum</th>\n",
       "    </tr>\n",
       "  </thead>\n",
       "  <tbody>\n",
       "    <tr>\n",
       "      <th>229</th>\n",
       "      <td>229</td>\n",
       "      <td>2017-06-23 16:49:02</td>\n",
       "      <td>it is still not 100% perfect, feels a little s...</td>\n",
       "      <td>1</td>\n",
       "      <td>0</td>\n",
       "      <td>2017-06-23 16:49:03</td>\n",
       "      <td>it is still not 100% perfect, feels a little s...</td>\n",
       "      <td>0</td>\n",
       "      <td>1</td>\n",
       "      <td>0</td>\n",
       "      <td>0</td>\n",
       "    </tr>\n",
       "  </tbody>\n",
       "</table>\n",
       "</div>"
      ],
      "text/plain": [
       "      Id message_timestamp_r1  \\\n",
       "229  229  2017-06-23 16:49:02   \n",
       "\n",
       "                                               text_r1  high_morale_r1  \\\n",
       "229  it is still not 100% perfect, feels a little s...               1   \n",
       "\n",
       "     low_morale_r1 message_timestamp_r2  \\\n",
       "229              0  2017-06-23 16:49:03   \n",
       "\n",
       "                                               text_r2  high_morale_r2  \\\n",
       "229  it is still not 100% perfect, feels a little s...               0   \n",
       "\n",
       "     low_morale_r2  high_morale_sum  low_morale_sum  \n",
       "229              1                0               0  "
      ]
     },
     "execution_count": 15,
     "metadata": {},
     "output_type": "execute_result"
    }
   ],
   "source": [
    "# is there any time that Rater1 labeled high morale and Rater2 labeled low morale in the same statement? or vice-versa?\n",
    "df_merged.loc[((df_merged['high_morale_r1'] == 1) & (df_merged['low_morale_r2'] == 1)) \n",
    "              | ((df_merged['low_morale_r1'] == 1) & (df_merged['high_morale_r2'] == 1))]"
   ]
  },
  {
   "cell_type": "code",
   "execution_count": 16,
   "metadata": {},
   "outputs": [
    {
     "data": {
      "text/plain": [
       "233"
      ]
     },
     "execution_count": 16,
     "metadata": {},
     "output_type": "execute_result"
    }
   ],
   "source": [
    "# Agreements on neutral (times that rater1 and rater2 labeled the same message as neutral)\n",
    "neutral_agreements = df_merged.loc[((df_merged['high_morale_r1'] == 0) & (df_merged['high_morale_r2'] == 0))\n",
    "             & ((df_merged['low_morale_r1'] == 0) & (df_merged['low_morale_r2'] == 0))]\n",
    "len(neutral_agreements)"
   ]
  },
  {
   "cell_type": "code",
   "execution_count": 17,
   "metadata": {},
   "outputs": [
    {
     "data": {
      "text/plain": [
       "2    256\n",
       "dtype: int64"
      ]
     },
     "execution_count": 17,
     "metadata": {},
     "output_type": "execute_result"
    }
   ],
   "source": [
    "#Global agreements (times that rater1 and rater2 agree in general - neutral+hm+lm):\n",
    "global_agreements = len(neutral_agreements) + count_high + count_low\n",
    "global_agreements"
   ]
  },
  {
   "cell_type": "code",
   "execution_count": 18,
   "metadata": {},
   "outputs": [
    {
     "data": {
      "text/plain": [
       "2    44\n",
       "dtype: int64"
      ]
     },
     "execution_count": 18,
     "metadata": {},
     "output_type": "execute_result"
    }
   ],
   "source": [
    "#Global agreements (times that rater1 and rater2 disagree in general - neutral+hm+lm):\n",
    "global_disagreements = 300 - global_agreements\n",
    "global_disagreements"
   ]
  },
  {
   "cell_type": "code",
   "execution_count": 19,
   "metadata": {},
   "outputs": [
    {
     "data": {
      "text/plain": [
       "49"
      ]
     },
     "execution_count": 19,
     "metadata": {},
     "output_type": "execute_result"
    }
   ],
   "source": [
    "#what is the total labeled as hm by rater1 and/or rater2 in 300 messages?\n",
    "high_morale_total = df_merged.loc[((df_merged['high_morale_r1'] == 1) | (df_merged['high_morale_r2'] == 1))]\n",
    "len(high_morale_total)"
   ]
  },
  {
   "cell_type": "code",
   "execution_count": 20,
   "metadata": {},
   "outputs": [
    {
     "data": {
      "text/html": [
       "<div>\n",
       "<style>\n",
       "    .dataframe thead tr:only-child th {\n",
       "        text-align: right;\n",
       "    }\n",
       "\n",
       "    .dataframe thead th {\n",
       "        text-align: left;\n",
       "    }\n",
       "\n",
       "    .dataframe tbody tr th {\n",
       "        vertical-align: top;\n",
       "    }\n",
       "</style>\n",
       "<table border=\"1\" class=\"dataframe\">\n",
       "  <thead>\n",
       "    <tr style=\"text-align: right;\">\n",
       "      <th></th>\n",
       "      <th>Id</th>\n",
       "      <th>message_timestamp_r1</th>\n",
       "      <th>text_r1</th>\n",
       "      <th>high_morale_r1</th>\n",
       "      <th>low_morale_r1</th>\n",
       "      <th>message_timestamp_r2</th>\n",
       "      <th>text_r2</th>\n",
       "      <th>high_morale_r2</th>\n",
       "      <th>low_morale_r2</th>\n",
       "      <th>high_morale_sum</th>\n",
       "      <th>low_morale_sum</th>\n",
       "    </tr>\n",
       "  </thead>\n",
       "  <tbody>\n",
       "    <tr>\n",
       "      <th>15</th>\n",
       "      <td>15</td>\n",
       "      <td>2017-01-13 15:27:18</td>\n",
       "      <td>lets do that. I would want us to make sure we ...</td>\n",
       "      <td>1</td>\n",
       "      <td>0</td>\n",
       "      <td>2017-01-13 15:27:18</td>\n",
       "      <td>lets do that. I would want us to make sure we ...</td>\n",
       "      <td>0</td>\n",
       "      <td>0</td>\n",
       "      <td>0</td>\n",
       "      <td>0</td>\n",
       "    </tr>\n",
       "    <tr>\n",
       "      <th>52</th>\n",
       "      <td>52</td>\n",
       "      <td>2016-05-24 11:09:38</td>\n",
       "      <td>Hmm... It stopped here... But I'm glad we're g...</td>\n",
       "      <td>1</td>\n",
       "      <td>0</td>\n",
       "      <td>2016-05-24 11:09:38</td>\n",
       "      <td>Hmm... It stopped here... But I'm glad we're g...</td>\n",
       "      <td>0</td>\n",
       "      <td>0</td>\n",
       "      <td>0</td>\n",
       "      <td>0</td>\n",
       "    </tr>\n",
       "    <tr>\n",
       "      <th>53</th>\n",
       "      <td>53</td>\n",
       "      <td>2017-06-23 16:50:05</td>\n",
       "      <td>we used a standard component :slightly_smiling...</td>\n",
       "      <td>0</td>\n",
       "      <td>0</td>\n",
       "      <td>2017-06-23 16:50:06</td>\n",
       "      <td>we used a standard component :slightly_smiling...</td>\n",
       "      <td>1</td>\n",
       "      <td>0</td>\n",
       "      <td>0</td>\n",
       "      <td>0</td>\n",
       "    </tr>\n",
       "  </tbody>\n",
       "</table>\n",
       "</div>"
      ],
      "text/plain": [
       "    Id message_timestamp_r1  \\\n",
       "15  15  2017-01-13 15:27:18   \n",
       "52  52  2016-05-24 11:09:38   \n",
       "53  53  2017-06-23 16:50:05   \n",
       "\n",
       "                                              text_r1  high_morale_r1  \\\n",
       "15  lets do that. I would want us to make sure we ...               1   \n",
       "52  Hmm... It stopped here... But I'm glad we're g...               1   \n",
       "53  we used a standard component :slightly_smiling...               0   \n",
       "\n",
       "    low_morale_r1 message_timestamp_r2  \\\n",
       "15              0  2017-01-13 15:27:18   \n",
       "52              0  2016-05-24 11:09:38   \n",
       "53              0  2017-06-23 16:50:06   \n",
       "\n",
       "                                              text_r2  high_morale_r2  \\\n",
       "15  lets do that. I would want us to make sure we ...               0   \n",
       "52  Hmm... It stopped here... But I'm glad we're g...               0   \n",
       "53  we used a standard component :slightly_smiling...               1   \n",
       "\n",
       "    low_morale_r2  high_morale_sum  low_morale_sum  \n",
       "15              0                0               0  \n",
       "52              0                0               0  \n",
       "53              0                0               0  "
      ]
     },
     "execution_count": 20,
     "metadata": {},
     "output_type": "execute_result"
    }
   ],
   "source": [
    "#Then create new variables to indicate whether the raters agree or disagree. \n",
    "#On how many messages do the raters agree? Please answer for both variables.\n",
    "\n",
    "# Disagreements when labeling high morale:\n",
    "hm_disagreements = df_merged.loc[((df_merged['high_morale_r1'] == 0) & (df_merged['high_morale_r2'] == 1))\n",
    "             | ((df_merged['high_morale_r1'] == 1) & (df_merged['high_morale_r2'] == 0))]\n",
    "hm_disagreements[:3]"
   ]
  },
  {
   "cell_type": "code",
   "execution_count": 21,
   "metadata": {},
   "outputs": [
    {
     "data": {
      "text/plain": [
       "29"
      ]
     },
     "execution_count": 21,
     "metadata": {},
     "output_type": "execute_result"
    }
   ],
   "source": [
    "len(hm_disagreements)"
   ]
  },
  {
   "cell_type": "code",
   "execution_count": 22,
   "metadata": {},
   "outputs": [
    {
     "name": "stdout",
     "output_type": "stream",
     "text": [
      "16 times Rater1 and Rater2 disagreed in labeling low morale\n"
     ]
    }
   ],
   "source": [
    "# Disagreements when labeling low morale:\n",
    "lm_disagreements = df_merged.loc[((df_merged['low_morale_r1'] == 0) & (df_merged['low_morale_r2'] == 1))\n",
    "             | ((df_merged['low_morale_r1'] == 1) & (df_merged['low_morale_r2'] == 0))]\n",
    "len(lm_disagreements)\n",
    "print(f\"{len(lm_disagreements)} times Rater1 and Rater2 disagreed in labeling low morale\")"
   ]
  },
  {
   "cell_type": "code",
   "execution_count": 23,
   "metadata": {},
   "outputs": [
    {
     "data": {
      "text/plain": [
       "19"
      ]
     },
     "execution_count": 23,
     "metadata": {},
     "output_type": "execute_result"
    }
   ],
   "source": [
    "#what is the total labeled as lm by rater1 and/or rater2 in 300 messages?\n",
    "low_morale_total = df_merged.loc[((df_merged['low_morale_r1'] == 1) | (df_merged['low_morale_r2'] == 1))]\n",
    "len(low_morale_total)"
   ]
  },
  {
   "cell_type": "code",
   "execution_count": 24,
   "metadata": {
    "collapsed": true
   },
   "outputs": [],
   "source": [
    "# the message Id=229 is appearing in the count of both hm and lm because Rater1 labeled it as HM and Rater 2 labeled it as LM"
   ]
  },
  {
   "cell_type": "code",
   "execution_count": 25,
   "metadata": {},
   "outputs": [
    {
     "name": "stdout",
     "output_type": "stream",
     "text": [
      "the percentage that was labeled as high morale by both raters was 16%\n",
      "the percentage that Rater1 labeled as high morale was 10%\n",
      "the percentage that Rater2 labeled as high morale was 13%\n"
     ]
    }
   ],
   "source": [
    "#When the raters do not agree, how often does this happen?\n",
    "# What is the percentage that was labeled as high morale in 300 messages?\n",
    "percent_global_labeling_as_high_morale = (49*100) / 300\n",
    "print(f\"the percentage that was labeled as high morale by both raters was {round(percent_global_labeling_as_high_morale)}%\")\n",
    "percent_rater1_labeled_as_high_morale = (31*100) / 300\n",
    "print(f\"the percentage that Rater1 labeled as high morale was {round(percent_rater1_labeled_as_high_morale)}%\")\n",
    "percent_rater2_labeled_as_high_morale = (38*100) / 300\n",
    "print(f\"the percentage that Rater2 labeled as high morale was {round(percent_rater2_labeled_as_high_morale)}%\")"
   ]
  },
  {
   "cell_type": "code",
   "execution_count": 26,
   "metadata": {},
   "outputs": [
    {
     "name": "stdout",
     "output_type": "stream",
     "text": [
      "the percentage that was labeled as low morale by both raters was 6%\n",
      "the percentage that Rater1 labeled as low morale was 1%\n",
      "the percentage that Rater2 labeled as low morale was 6%\n"
     ]
    }
   ],
   "source": [
    "# What is the percentage that was labeled as low morale:\n",
    "percent_global_labeling_as_low_morale = (19*100) / 300\n",
    "print(f\"the percentage that was labeled as low morale by both raters was {round(percent_global_labeling_as_low_morale)}%\")\n",
    "percent_rater1_labeled_as_low_morale = (4*100) / 300\n",
    "print(f\"the percentage that Rater1 labeled as low morale was {round(percent_rater1_labeled_as_low_morale)}%\")\n",
    "percent_rater2_labeled_as_low_morale = (18*100) / 300\n",
    "print(f\"the percentage that Rater2 labeled as low morale was {round(percent_rater2_labeled_as_low_morale)}%\")"
   ]
  },
  {
   "cell_type": "code",
   "execution_count": 27,
   "metadata": {},
   "outputs": [
    {
     "name": "stdout",
     "output_type": "stream",
     "text": [
      "Rater1 and Rater2 agreed in labeling low morale in 16%  of the times \n",
      "Rater1 and Rater2 disagreed in labeling low morale in 84%  of the times \n"
     ]
    }
   ],
   "source": [
    "# What is the percentage of low morale agreements/disagreements? \n",
    "percent_agreement_low_morale = (3*100) / 19\n",
    "print(f\"Rater1 and Rater2 agreed in labeling low morale in {round(percent_agreement_low_morale)}%  of the times \")\n",
    "percent_disagreement_low_morale = (16*100) / 19\n",
    "print(f\"Rater1 and Rater2 disagreed in labeling low morale in {round(percent_disagreement_low_morale)}%  of the times \")"
   ]
  },
  {
   "cell_type": "code",
   "execution_count": 28,
   "metadata": {},
   "outputs": [
    {
     "name": "stdout",
     "output_type": "stream",
     "text": [
      "Rater1 and Rater2 agreed in labeling high morale in 41%  of the times \n",
      "Rater1 and Rater2 disagreed in labeling high morale in 59%  of the times \n"
     ]
    }
   ],
   "source": [
    "# What is the percentage of high morale agreements/disagreements? \n",
    "percent_agreement_high_morale = (20*100) / 49\n",
    "print(f\"Rater1 and Rater2 agreed in labeling high morale in {round(percent_agreement_high_morale)}%  of the times \")\n",
    "percent_disagreement_high_morale = (29*100) / 49\n",
    "print(f\"Rater1 and Rater2 disagreed in labeling high morale in {round(percent_disagreement_high_morale)}%  of the times \")"
   ]
  },
  {
   "cell_type": "code",
   "execution_count": 29,
   "metadata": {},
   "outputs": [
    {
     "name": "stdout",
     "output_type": "stream",
     "text": [
      "The percentage of global agreement in rating is 85%\n",
      "The percentage of global disagreement in rating is 15%\n"
     ]
    }
   ],
   "source": [
    "#What is the percentage of total agreements/disagreements in labeling?\n",
    "percent_global_agreements = (256*100) / 300\n",
    "print(f\"The percentage of global agreement in rating is {round(percent_global_agreements)}%\")\n",
    "percent_global_disagreements = (44*100) / 300\n",
    "print(f\"The percentage of global disagreement in rating is {round(percent_global_disagreements)}%\")"
   ]
  },
  {
   "cell_type": "code",
   "execution_count": 30,
   "metadata": {
    "scrolled": true
   },
   "outputs": [
    {
     "data": {
      "image/png": "[encoded data removed]",
      "text/plain": [
       "<matplotlib.figure.Figure at 0x1e73a879160>"
      ]
     },
     "metadata": {},
     "output_type": "display_data"
    }
   ],
   "source": [
    "# Pie chart, where the slices will be ordered and plotted counter-clockwise:\n",
    "labels = 'Global Agreements', 'Global Disagreements'\n",
    "sizes = [256, 44]\n",
    "explode = (0.1, 0)  # only \"explode\" the 1nd slice (i.e. 'Global Agreements')\n",
    "\n",
    "fig1, ax1 = plt.subplots()\n",
    "ax1.pie(sizes, explode=explode, labels=labels, autopct='%1.1f%%',\n",
    "        shadow=True, startangle=90)\n",
    "ax1.axis('equal')  # Equal aspect ratio ensures that pie is drawn as a circle.\n",
    "\n",
    "plt.show()"
   ]
  },
  {
   "cell_type": "code",
   "execution_count": 31,
   "metadata": {},
   "outputs": [
    {
     "data": {
      "image/png": "[encoded data removed]",
      "text/plain": [
       "<matplotlib.figure.Figure at 0x1e73a86b080>"
      ]
     },
     "metadata": {},
     "output_type": "display_data"
    }
   ],
   "source": [
    "# Global Labeling High Morale\n",
    "# Pie chart, where the slices will be ordered and plotted counter-clockwise:\n",
    "labels = 'Neutral or Low Morale', 'High Morale'\n",
    "sizes = [84, 16]\n",
    "explode = (0.1, 0)  # only \"explode\" the 1nd slice (i.e. 'Global Agreements')\n",
    "\n",
    "fig1, ax1 = plt.subplots()\n",
    "ax1.pie(sizes, explode=explode, labels=labels, autopct='%1.1f%%',\n",
    "        shadow=True, startangle=90)\n",
    "ax1.axis('equal')  # Equal aspect ratio ensures that pie is drawn as a circle.\n",
    "\n",
    "plt.show()"
   ]
  },
  {
   "cell_type": "code",
   "execution_count": 32,
   "metadata": {},
   "outputs": [
    {
     "data": {
      "image/png": "[encoded data removed]",
      "text/plain": [
       "<matplotlib.figure.Figure at 0x1e73ad266a0>"
      ]
     },
     "metadata": {},
     "output_type": "display_data"
    }
   ],
   "source": [
    "# Global Labeling Low Morale\n",
    "# Pie chart, where the slices will be ordered and plotted counter-clockwise:\n",
    "labels = 'Neutral or High Morale', 'Low Morale'\n",
    "sizes = [94, 6]\n",
    "explode = (0.1, 0)  # only \"explode\" the 1nd slice (i.e. 'Global Agreements')\n",
    "\n",
    "fig1, ax1 = plt.subplots()\n",
    "ax1.pie(sizes, explode=explode, labels=labels, autopct='%1.1f%%',\n",
    "        shadow=True, startangle=90)\n",
    "ax1.axis('equal')  # Equal aspect ratio ensures that pie is drawn as a circle.\n",
    "\n",
    "plt.show()"
   ]
  },
  {
   "cell_type": "code",
   "execution_count": 33,
   "metadata": {},
   "outputs": [
    {
     "data": {
      "image/png": "[encoded data removed]",
      "text/plain": [
       "<matplotlib.figure.Figure at 0x1e73adb7630>"
      ]
     },
     "metadata": {},
     "output_type": "display_data"
    }
   ],
   "source": [
    "# Pie chart with 3 dimensions high, low, neutral (for total labeled)\n",
    "# Pie chart, where the slices will be ordered and plotted counter-clockwise:\n",
    "labels = 'High Morale', 'Low Morale', 'Neutral'\n",
    "sizes = [16, 6, 78]\n",
    "explode = (0.1, 0, 0)  # only \"explode\" the 2nd slice (i.e. 'Hogs')\n",
    "\n",
    "fig1, ax1 = plt.subplots()\n",
    "ax1.pie(sizes, explode=explode, labels=labels, autopct='%1.1f%%',\n",
    "        shadow=True, startangle=90)\n",
    "ax1.axis('equal')  # Equal aspect ratio ensures that pie is drawn as a circle.\n",
    "\n",
    "plt.show()"
   ]
  },
  {
   "cell_type": "code",
   "execution_count": 34,
   "metadata": {},
   "outputs": [
    {
     "data": {
      "image/png": "[encoded data removed]",
      "text/plain": [
       "<matplotlib.figure.Figure at 0x1e73ad2ac18>"
      ]
     },
     "metadata": {},
     "output_type": "display_data"
    }
   ],
   "source": [
    "# Agree in labeling high morale in 41%  of the times \n",
    "# Disagree in labeling high morale in 59%  of the times\n",
    "# Pie chart, where the slices will be ordered and plotted counter-clockwise:\n",
    "labels = 'High morale Agreements', 'High morale Disagreements'\n",
    "sizes = [41, 59]\n",
    "explode = (0.1, 0)  # only \"explode\" the 1nd slice (i.e. 'Global Agreements')\n",
    "\n",
    "fig1, ax1 = plt.subplots()\n",
    "ax1.pie(sizes, explode=explode, labels=labels, autopct='%1.1f%%',\n",
    "        shadow=True, startangle=90)\n",
    "ax1.axis('equal')  # Equal aspect ratio ensures that pie is drawn as a circle.\n",
    "\n",
    "plt.show()"
   ]
  },
  {
   "cell_type": "code",
   "execution_count": 35,
   "metadata": {
    "scrolled": true
   },
   "outputs": [
    {
     "data": {
      "image/png": "[encoded data removed]",
      "text/plain": [
       "<matplotlib.figure.Figure at 0x1e73a879400>"
      ]
     },
     "metadata": {},
     "output_type": "display_data"
    }
   ],
   "source": [
    "#Agree in labeling low morale in 16%  of the times \n",
    "#Disagree in labeling low morale in 84%  of the times\n",
    "# Pie chart, where the slices will be ordered and plotted counter-clockwise:\n",
    "labels = 'Low morale Agreements', 'Low morale Disagreements'\n",
    "sizes = [16, 84]\n",
    "explode = (0.1, 0)  # only \"explode\" the 1nd slice (i.e. 'Global Agreements')\n",
    "\n",
    "fig1, ax1 = plt.subplots()\n",
    "ax1.pie(sizes, explode=explode, labels=labels, autopct='%1.1f%%',\n",
    "        shadow=True, startangle=90)\n",
    "ax1.axis('equal')  # Equal aspect ratio ensures that pie is drawn as a circle.\n",
    "\n",
    "plt.show()"
   ]
  },
  {
   "cell_type": "code",
   "execution_count": null,
   "metadata": {
    "collapsed": true
   },
   "outputs": [],
   "source": []
  },
  {
   "cell_type": "code",
   "execution_count": null,
   "metadata": {
    "collapsed": true
   },
   "outputs": [],
   "source": []
  }
 ],
 "metadata": {
  "kernelspec": {
   "display_name": "Python 3",
   "language": "python",
   "name": "python3"
  },
  "language_info": {
   "codemirror_mode": {
    "name": "ipython",
    "version": 3
   },
   "file_extension": ".py",
   "mimetype": "text/x-python",
   "name": "python",
   "nbconvert_exporter": "python",
   "pygments_lexer": "ipython3",
   "version": "3.6.1"
  }
 },
 "nbformat": 4,
 "nbformat_minor": 2
}
